{
 "cells": [
  {
   "cell_type": "code",
   "execution_count": 146,
   "id": "5cd9f272-f256-4e3e-b9cf-130158a59a76",
   "metadata": {},
   "outputs": [],
   "source": [
    "import importlib\n",
    "import requests\n",
    "from helpers import professor_helpers\n",
    "importlib.reload(professor_helpers)\n",
    "import json"
   ]
  },
  {
   "cell_type": "code",
   "execution_count": 147,
   "id": "8595793b-292f-4a9f-aa30-c585ea35ba86",
   "metadata": {},
   "outputs": [],
   "source": [
    "prof_helper = professor_helpers.ProfessorHelpers()"
   ]
  },
  {
   "cell_type": "code",
   "execution_count": 148,
   "id": "bfa48907",
   "metadata": {},
   "outputs": [
    {
     "data": {
      "text/plain": [
       "{'Homa Alemzadeh': 'https://scholar.google.com/citations?user=sXpmLxUAAAAJ&hl=en',\n",
       " 'Panagiotis Apostolellis': 'https://scholar.google.com/citations?user=xum8Ti0AAAAJ&hl=en',\n",
       " 'Christopher L. Barrett': 'https://scholar.google.com/citations?user=wuKMx_kAAAAJ&hl=en&oi=ao',\n",
       " 'Madhur Behl': 'https://scholar.google.com/citations?user=bj_imaYAAAAJ&hl=en',\n",
       " 'Brad Campbell': 'https://scholar.google.com/citations?user=MLx5TCQAAAAJ&hl=en&oi=sra',\n",
       " 'Rohan Chandra': 'https://scholar.google.com/citations?user=uOIgTt8AAAAJ&hl=',\n",
       " 'Chen Chen': 'https://scholar.google.com/citations?user=749hEHsAAAAJ&hl=en',\n",
       " 'Yue Cheng': 'https://scholar.google.com/citations?user=TMGwBH0AAAAJ&hl=en',\n",
       " 'Sandhya Dwarkadas': 'https://scholar.google.com/citations?user=L1pb8GUAAAAJ&hl=en&oi=ao',\n",
       " 'Matthew B. Dwyer': 'https://scholar.google.com/citations?view_op=new_profile&hl=en',\n",
       " 'Sebastian Elbaum': 'https://scholar.google.com/citations?hl=en&user=swPW5FYAAAAJ&view_op=list_works',\n",
       " 'David Evans': 'https://scholar.google.com/citations?user=DsR4PucAAAAJ&hl=en',\n",
       " 'Farzad Farnoud': 'https://scholar.google.com/citations?user=s1NC4EMAAAAJ&hl=en',\n",
       " 'Lu Feng': 'https://scholar.google.com/citations?hl=en&user=HiyMQzEAAAAJ',\n",
       " 'Matheus Venturyne Xavier Ferreira': 'https://scholar.google.com/citations?user=sB6vkOIAAAAJ&hl=en',\n",
       " 'Ferdinando Fioretto': 'https://scholar.google.com/citations?hl=en&user=ASf9Q04AAAAJ&sortby=pubdate',\n",
       " 'Tom Fletcher': 'https://scholar.google.com/citations?user=7pRRhkkAAAAJ&hl=en',\n",
       " 'Geoffrey C. Fox': 'https://scholar.google.com/citations?hl=en&user=dJ-fD-sAAAAJ',\n",
       " 'Daniel G. Graham': 'https://scholar.google.com/citations?hl=en&user=a9vq4YoAAAAJ&view_op=list_works&gmla=AJsN-F42IsJ-7AUnHJFk1i6XcKA_zpc_khbUCITTNIBwFIgBq4iHeMSyG4zl1Q_9WiOaFKZ_3ftsVBpblExJmRFJCDkYRhLx1ENrywKbOjYYGu7ioarc6aM',\n",
       " 'Wajih Ul Hassan': 'https://scholar.google.com/citations?user=09SohzcAAAAJ&hl=en',\n",
       " 'Seongkook Heo': 'https://scholar.google.com/citations?user=7r0_F0kAAAAJ',\n",
       " 'Thomas B. Horton': 'https://scholar.google.com/citations?user=Ixa74FIAAAAJ&hl=en',\n",
       " 'John R. Hott': 'https://scholar.google.com/citations?hl=en&user=bLuw1yoAAAAJ',\n",
       " 'Yangfeng Ji': 'https://scholar.google.com/citations?user=pg02-e8AAAAJ&hl=en',\n",
       " 'Adwait Jog': 'https://scholar.google.com/citations?hl=en&user=9RgqL8gAAAAJ',\n",
       " 'Henry Kautz': 'https://scholar.google.com/citations?user=WxQyOYQAAAAJ&hl=en',\n",
       " 'Samira Khan': 'https://scholar.google.com/citations?user=MkU_TDAAAAAJ&hl=en',\n",
       " 'Hyojoon Kim': 'https://scholar.google.com/citations?user=DUEglv4AAAAJ&hl=en',\n",
       " 'Yen-Ling Kuo': 'https://scholar.google.com/citations?user=pNkyRs4AAAAJ&hl=en',\n",
       " 'Yonghwi Kwon': 'https://scholar.google.com/citations?user=YK3KT3kAAAAJ&hl=en',\n",
       " 'Kyusang Lee': 'https://scholar.google.com/citations?user=Us0JCUwAAAAJ&hl=en&oi=ao',\n",
       " 'Jundong Li': 'https://scholar.google.com/citations?user=uY6ek7sAAAAJ&hl=en',\n",
       " 'Wei-Kai Lin': 'https://scholar.google.com/citations?hl=en&user=UF-wXn0AAAAJ',\n",
       " 'Madhav Marathe': 'https://scholar.google.com/citations?user=diIore8AAAAJ&hl=en',\n",
       " 'Paul \"Will\" McBurney': 'https://scholar.google.com/citations?user=FIxqluYAAAAJ&hl=en',\n",
       " 'Yu Meng': 'https://scholar.google.com/citations?user=S2-yZKcAAAAJ&hl=en',\n",
       " 'Briana Morrison': 'https://scholar.google.com/citations?user=XXLOcBcAAAAJ&hl=en',\n",
       " 'N. Rich Nguyen': 'https://scholar.google.com/citations?user=RevIbSkAAAAJ',\n",
       " 'Angela Orebaugh': 'https://scholar.google.com/citations',\n",
       " 'Yanjun Qi': 'https://scholar.google.com/citations?user=eXKdSu0AAAAJ&hl=en',\n",
       " 'Kun Qian': 'https://scholar.google.com/citations?user=fGNCS9oAAAAJ',\n",
       " 'Daniel J. Rosenkrantz': 'https://scholar.google.com/citations?user=RNHJqvcAAAAJ&hl=en&oi=ao',\n",
       " 'Haiying Shen': 'https://scholar.google.com/citations?user=W0Cx7ZAAAAAJ&hl=en',\n",
       " 'Mark Sherriff': 'https://scholar.google.com/citations?user=_2vphAIAAAAJ&hl=en',\n",
       " 'Kevin Skadron': 'https://scholar.google.com/citations?user=Q-As1CEAAAAJ&hl=en',\n",
       " 'Yixin Sun': 'https://scholar.google.com/citations?user=ov72AA4AAAAJ',\n",
       " 'Anil Vullikanti': 'https://scholar.google.com/citations?user=MNJ-E9UAAAAJ&hl=en',\n",
       " 'Tianhao Wang': 'https://scholar.google.com/citations?user=TkgyXGwAAAAJ&hl=en&oi=ao',\n",
       " 'Hongning Wang': 'https://scholar.google.com/citations?user=qkdvKNoAAAAJ&hl=en'}"
      ]
     },
     "execution_count": 148,
     "metadata": {},
     "output_type": "execute_result"
    }
   ],
   "source": [
    "prof_names_and_links = prof_helper.fetch_all_professors_google_scholar_links(prof_helper.urls[0], 7)\n",
    "prof_names_and_links"
   ]
  },
  {
   "cell_type": "code",
   "execution_count": null,
   "id": "6100f7af",
   "metadata": {},
   "outputs": [],
   "source": [
    "professor_info = []\n",
    "for professor in prof_names_and_links:\n",
    "    prof_dictionary = {\"Professor\":professor, \"Papers\":[]}\n",
    "    prof_papers = prof_helper.fetch_scholar_papers(professor, prof_names_and_links)\n",
    "    prof_dictionary[\"Papers\"] = prof_papers\n",
    "    professor_info.append(prof_dictionary)\n",
    "    print(f\"Papers Gathered for {professor}\")\n",
    "    prof_helper.random_sleep()"
   ]
  },
  {
   "cell_type": "code",
   "execution_count": null,
   "id": "12a87aec",
   "metadata": {},
   "outputs": [
    {
     "name": "stdout",
     "output_type": "stream",
     "text": [
      "Sleeping for 2.30 seconds...\n",
      "Sleeping for 1.08 seconds...\n",
      "Sleeping for 2.37 seconds...\n",
      "Sleeping for 2.51 seconds...\n",
      "Sleeping for 2.88 seconds...\n",
      "Sleeping for 2.58 seconds...\n",
      "Sleeping for 2.46 seconds...\n",
      "Sleeping for 2.80 seconds...\n",
      "Sleeping for 1.52 seconds...\n",
      "Sleeping for 1.80 seconds...\n",
      "Sleeping for 1.73 seconds...\n",
      "Sleeping for 2.05 seconds...\n",
      "Sleeping for 1.02 seconds...\n",
      "Sleeping for 1.39 seconds...\n",
      "Sleeping for 2.97 seconds...\n",
      "Sleeping for 2.57 seconds...\n",
      "Sleeping for 2.84 seconds...\n",
      "Sleeping for 2.44 seconds...\n",
      "Sleeping for 2.17 seconds...\n",
      "Sleeping for 1.38 seconds...\n",
      "All papers and abstracts gathered for Homa Alemzadeh\n",
      "Sleeping for 6.94 seconds...\n",
      "Sleeping for 2.32 seconds...\n",
      "Sleeping for 1.49 seconds...\n",
      "Sleeping for 2.32 seconds...\n",
      "Sleeping for 2.21 seconds...\n",
      "Sleeping for 1.43 seconds...\n",
      "Sleeping for 2.74 seconds...\n",
      "Sleeping for 2.06 seconds...\n",
      "Sleeping for 2.23 seconds...\n",
      "Sleeping for 2.04 seconds...\n",
      "Sleeping for 1.39 seconds...\n",
      "Sleeping for 2.65 seconds...\n",
      "Sleeping for 2.29 seconds...\n",
      "Sleeping for 1.63 seconds...\n",
      "Sleeping for 1.72 seconds...\n",
      "Sleeping for 1.64 seconds...\n",
      "Sleeping for 1.05 seconds...\n",
      "Sleeping for 2.12 seconds...\n",
      "Sleeping for 2.58 seconds...\n",
      "Sleeping for 2.60 seconds...\n",
      "Sleeping for 1.71 seconds...\n",
      "All papers and abstracts gathered for Panagiotis Apostolellis\n",
      "Sleeping for 8.86 seconds...\n",
      "Sleeping for 2.61 seconds...\n",
      "Sleeping for 1.46 seconds...\n",
      "Sleeping for 1.12 seconds...\n",
      "Sleeping for 1.21 seconds...\n",
      "Sleeping for 2.65 seconds...\n",
      "Sleeping for 1.80 seconds...\n",
      "Sleeping for 2.59 seconds...\n",
      "Sleeping for 2.53 seconds...\n"
     ]
    },
    {
     "ename": "HTTPError",
     "evalue": "429 Client Error: Too Many Requests for url: https://www.google.com/sorry/index?continue=https://scholar.google.com/citations%3Fview_op%3Dview_citation%26hl%3Den%26user%3DwuKMx_kAAAAJ%26citation_for_view%3DwuKMx_kAAAAJ:WF5omc3nYNoC&hl=en&q=EgRAY-kAGM-_vrkGIi7Y7pCRXaSEAthxCb848W503pDxQQF-DxCxiINP_AZOEZCGKnAi5W47HQkjbk9MMgFyWgFD",
     "output_type": "error",
     "traceback": [
      "\u001b[0;31m---------------------------------------------------------------------------\u001b[0m",
      "\u001b[0;31mHTTPError\u001b[0m                                 Traceback (most recent call last)",
      "Cell \u001b[0;32mIn[144], line 3\u001b[0m\n\u001b[1;32m      1\u001b[0m \u001b[38;5;28;01mfor\u001b[39;00m professor_and_papers \u001b[38;5;129;01min\u001b[39;00m professor_info:\n\u001b[1;32m      2\u001b[0m     \u001b[38;5;28;01mfor\u001b[39;00m paper \u001b[38;5;129;01min\u001b[39;00m professor_and_papers[\u001b[38;5;124m\"\u001b[39m\u001b[38;5;124mPapers\u001b[39m\u001b[38;5;124m\"\u001b[39m]:\n\u001b[0;32m----> 3\u001b[0m         abstract, link \u001b[38;5;241m=\u001b[39m \u001b[43mprof_helper\u001b[49m\u001b[38;5;241;43m.\u001b[39;49m\u001b[43mfetch_paper_details\u001b[49m\u001b[43m(\u001b[49m\u001b[43mpaper\u001b[49m\u001b[43m[\u001b[49m\u001b[38;5;124;43m\"\u001b[39;49m\u001b[38;5;124;43mabstract_link\u001b[39;49m\u001b[38;5;124;43m\"\u001b[39;49m\u001b[43m]\u001b[49m\u001b[43m)\u001b[49m\n\u001b[1;32m      4\u001b[0m         paper[\u001b[38;5;124m\"\u001b[39m\u001b[38;5;124mabstract\u001b[39m\u001b[38;5;124m\"\u001b[39m] \u001b[38;5;241m=\u001b[39m abstract\n\u001b[1;32m      5\u001b[0m         paper[\u001b[38;5;124m\"\u001b[39m\u001b[38;5;124mlink\u001b[39m\u001b[38;5;124m\"\u001b[39m] \u001b[38;5;241m=\u001b[39m link\n",
      "File \u001b[0;32m~/Githubs/school/ML-Project-Repo/src/helpers/professor_helpers.py:133\u001b[0m, in \u001b[0;36mfetch_paper_details\u001b[0;34m(self, citation_url)\u001b[0m\n\u001b[1;32m    127\u001b[0m \u001b[38;5;250m\u001b[39m\u001b[38;5;124;03m\"\"\"This function takes as input a citation url and returns a dictionary with the paper abstract and a link to the host site of the paper\"\"\"\u001b[39;00m\n\u001b[1;32m    129\u001b[0m headers \u001b[38;5;241m=\u001b[39m {\n\u001b[1;32m    130\u001b[0m     \u001b[38;5;124m\"\u001b[39m\u001b[38;5;124mUser-Agent\u001b[39m\u001b[38;5;124m\"\u001b[39m: \u001b[38;5;124m\"\u001b[39m\u001b[38;5;124mMozilla/5.0 (Windows NT 10.0; Win64; x64) AppleWebKit/537.36 (KHTML, like Gecko) Chrome/58.0.3029.110 Safari/537.3\u001b[39m\u001b[38;5;124m\"\u001b[39m\n\u001b[1;32m    131\u001b[0m }\n\u001b[0;32m--> 133\u001b[0m response \u001b[38;5;241m=\u001b[39m requests\u001b[38;5;241m.\u001b[39mget(citation_url, headers\u001b[38;5;241m=\u001b[39mheaders)\n\u001b[1;32m    134\u001b[0m response\u001b[38;5;241m.\u001b[39mraise_for_status()\n\u001b[1;32m    136\u001b[0m soup \u001b[38;5;241m=\u001b[39m BeautifulSoup(response\u001b[38;5;241m.\u001b[39mtext, \u001b[38;5;124m\"\u001b[39m\u001b[38;5;124mhtml.parser\u001b[39m\u001b[38;5;124m\"\u001b[39m)\n",
      "File \u001b[0;32m~/Githubs/school/ML-Project-Repo/env/lib/python3.10/site-packages/requests/models.py:1024\u001b[0m, in \u001b[0;36mResponse.raise_for_status\u001b[0;34m(self)\u001b[0m\n\u001b[1;32m   1019\u001b[0m     http_error_msg \u001b[38;5;241m=\u001b[39m (\n\u001b[1;32m   1020\u001b[0m         \u001b[38;5;124mf\u001b[39m\u001b[38;5;124m\"\u001b[39m\u001b[38;5;132;01m{\u001b[39;00m\u001b[38;5;28mself\u001b[39m\u001b[38;5;241m.\u001b[39mstatus_code\u001b[38;5;132;01m}\u001b[39;00m\u001b[38;5;124m Server Error: \u001b[39m\u001b[38;5;132;01m{\u001b[39;00mreason\u001b[38;5;132;01m}\u001b[39;00m\u001b[38;5;124m for url: \u001b[39m\u001b[38;5;132;01m{\u001b[39;00m\u001b[38;5;28mself\u001b[39m\u001b[38;5;241m.\u001b[39murl\u001b[38;5;132;01m}\u001b[39;00m\u001b[38;5;124m\"\u001b[39m\n\u001b[1;32m   1021\u001b[0m     )\n\u001b[1;32m   1023\u001b[0m \u001b[38;5;28;01mif\u001b[39;00m http_error_msg:\n\u001b[0;32m-> 1024\u001b[0m     \u001b[38;5;28;01mraise\u001b[39;00m HTTPError(http_error_msg, response\u001b[38;5;241m=\u001b[39m\u001b[38;5;28mself\u001b[39m)\n",
      "\u001b[0;31mHTTPError\u001b[0m: 429 Client Error: Too Many Requests for url: https://www.google.com/sorry/index?continue=https://scholar.google.com/citations%3Fview_op%3Dview_citation%26hl%3Den%26user%3DwuKMx_kAAAAJ%26citation_for_view%3DwuKMx_kAAAAJ:WF5omc3nYNoC&hl=en&q=EgRAY-kAGM-_vrkGIi7Y7pCRXaSEAthxCb848W503pDxQQF-DxCxiINP_AZOEZCGKnAi5W47HQkjbk9MMgFyWgFD"
     ]
    }
   ],
   "source": [
    "\n",
    "for professor_and_papers in professor_info:\n",
    "    for paper in professor_and_papers[\"Papers\"]:\n",
    "        abstract, link = prof_helper.fetch_paper_details(paper[\"abstract_link\"])\n",
    "        paper[\"abstract\"] = abstract\n",
    "        paper[\"link\"] = link\n",
    "        prof_helper.random_sleep(min_delay=10, max_delay=15)\n",
    "    print(f\"All papers and abstracts gathered for {professor_and_papers['Professor']}\")\n",
    "    prof_helper.random_sleep()"
   ]
  },
  {
   "cell_type": "code",
   "execution_count": 149,
   "id": "f0ddc084",
   "metadata": {},
   "outputs": [
    {
     "ename": "HTTPError",
     "evalue": "429 Client Error: Too Many Requests for url: https://www.google.com/sorry/index?continue=https://scholar.google.com/citations%3Fview_op%3Dview_citation%26hl%3Den%26user%3DsXpmLxUAAAAJ%26citation_for_view%3DsXpmLxUAAAAJ:z_wVstp3MssC&hl=en&q=EgRAY-kAGL3AvrkGIi65ihbchaHbTQfbJLoSp4unVi4r9QO0UCjbTKyuAA5RKmwUBPJ8gIL4b0DxVE8GMgFyWgFD",
     "output_type": "error",
     "traceback": [
      "\u001b[0;31m---------------------------------------------------------------------------\u001b[0m",
      "\u001b[0;31mHTTPError\u001b[0m                                 Traceback (most recent call last)",
      "Cell \u001b[0;32mIn[149], line 1\u001b[0m\n\u001b[0;32m----> 1\u001b[0m \u001b[43mprof_helper\u001b[49m\u001b[38;5;241;43m.\u001b[39;49m\u001b[43mfetch_paper_details\u001b[49m\u001b[43m(\u001b[49m\u001b[43mprofessor_info\u001b[49m\u001b[43m[\u001b[49m\u001b[38;5;241;43m0\u001b[39;49m\u001b[43m]\u001b[49m\u001b[43m[\u001b[49m\u001b[38;5;124;43m\"\u001b[39;49m\u001b[38;5;124;43mPapers\u001b[39;49m\u001b[38;5;124;43m\"\u001b[39;49m\u001b[43m]\u001b[49m\u001b[43m[\u001b[49m\u001b[38;5;241;43m0\u001b[39;49m\u001b[43m]\u001b[49m\u001b[43m[\u001b[49m\u001b[38;5;124;43m\"\u001b[39;49m\u001b[38;5;124;43mabstract_link\u001b[39;49m\u001b[38;5;124;43m\"\u001b[39;49m\u001b[43m]\u001b[49m\u001b[43m)\u001b[49m\n",
      "File \u001b[0;32m~/Githubs/school/ML-Project-Repo/src/helpers/professor_helpers.py:134\u001b[0m, in \u001b[0;36mProfessorHelpers.fetch_paper_details\u001b[0;34m(self, citation_url)\u001b[0m\n\u001b[1;32m    129\u001b[0m headers \u001b[38;5;241m=\u001b[39m {\n\u001b[1;32m    130\u001b[0m     \u001b[38;5;124m\"\u001b[39m\u001b[38;5;124mUser-Agent\u001b[39m\u001b[38;5;124m\"\u001b[39m: \u001b[38;5;124m\"\u001b[39m\u001b[38;5;124mMozilla/5.0 (Windows NT 10.0; Win64; x64) AppleWebKit/537.36 (KHTML, like Gecko) Chrome/58.0.3029.110 Safari/537.3\u001b[39m\u001b[38;5;124m\"\u001b[39m\n\u001b[1;32m    131\u001b[0m }\n\u001b[1;32m    133\u001b[0m response \u001b[38;5;241m=\u001b[39m requests\u001b[38;5;241m.\u001b[39mget(citation_url, headers\u001b[38;5;241m=\u001b[39mheaders)\n\u001b[0;32m--> 134\u001b[0m \u001b[43mresponse\u001b[49m\u001b[38;5;241;43m.\u001b[39;49m\u001b[43mraise_for_status\u001b[49m\u001b[43m(\u001b[49m\u001b[43m)\u001b[49m\n\u001b[1;32m    136\u001b[0m soup \u001b[38;5;241m=\u001b[39m BeautifulSoup(response\u001b[38;5;241m.\u001b[39mtext, \u001b[38;5;124m\"\u001b[39m\u001b[38;5;124mhtml.parser\u001b[39m\u001b[38;5;124m\"\u001b[39m)\n\u001b[1;32m    138\u001b[0m paper_details \u001b[38;5;241m=\u001b[39m {\u001b[38;5;124m\"\u001b[39m\u001b[38;5;124mabstract\u001b[39m\u001b[38;5;124m\"\u001b[39m: \u001b[38;5;28;01mNone\u001b[39;00m, \u001b[38;5;124m\"\u001b[39m\u001b[38;5;124mpaper_link\u001b[39m\u001b[38;5;124m\"\u001b[39m: \u001b[38;5;28;01mNone\u001b[39;00m}\n",
      "File \u001b[0;32m~/Githubs/school/ML-Project-Repo/env/lib/python3.10/site-packages/requests/models.py:1024\u001b[0m, in \u001b[0;36mResponse.raise_for_status\u001b[0;34m(self)\u001b[0m\n\u001b[1;32m   1019\u001b[0m     http_error_msg \u001b[38;5;241m=\u001b[39m (\n\u001b[1;32m   1020\u001b[0m         \u001b[38;5;124mf\u001b[39m\u001b[38;5;124m\"\u001b[39m\u001b[38;5;132;01m{\u001b[39;00m\u001b[38;5;28mself\u001b[39m\u001b[38;5;241m.\u001b[39mstatus_code\u001b[38;5;132;01m}\u001b[39;00m\u001b[38;5;124m Server Error: \u001b[39m\u001b[38;5;132;01m{\u001b[39;00mreason\u001b[38;5;132;01m}\u001b[39;00m\u001b[38;5;124m for url: \u001b[39m\u001b[38;5;132;01m{\u001b[39;00m\u001b[38;5;28mself\u001b[39m\u001b[38;5;241m.\u001b[39murl\u001b[38;5;132;01m}\u001b[39;00m\u001b[38;5;124m\"\u001b[39m\n\u001b[1;32m   1021\u001b[0m     )\n\u001b[1;32m   1023\u001b[0m \u001b[38;5;28;01mif\u001b[39;00m http_error_msg:\n\u001b[0;32m-> 1024\u001b[0m     \u001b[38;5;28;01mraise\u001b[39;00m HTTPError(http_error_msg, response\u001b[38;5;241m=\u001b[39m\u001b[38;5;28mself\u001b[39m)\n",
      "\u001b[0;31mHTTPError\u001b[0m: 429 Client Error: Too Many Requests for url: https://www.google.com/sorry/index?continue=https://scholar.google.com/citations%3Fview_op%3Dview_citation%26hl%3Den%26user%3DsXpmLxUAAAAJ%26citation_for_view%3DsXpmLxUAAAAJ:z_wVstp3MssC&hl=en&q=EgRAY-kAGL3AvrkGIi65ihbchaHbTQfbJLoSp4unVi4r9QO0UCjbTKyuAA5RKmwUBPJ8gIL4b0DxVE8GMgFyWgFD"
     ]
    }
   ],
   "source": [
    "prof_helper.fetch_paper_details(professor_info[0][\"Papers\"][0][\"abstract_link\"])"
   ]
  },
  {
   "cell_type": "code",
   "execution_count": null,
   "id": "6ba539e6",
   "metadata": {},
   "outputs": [],
   "source": []
  }
 ],
 "metadata": {
  "kernelspec": {
   "display_name": "env",
   "language": "python",
   "name": "python3"
  },
  "language_info": {
   "codemirror_mode": {
    "name": "ipython",
    "version": 3
   },
   "file_extension": ".py",
   "mimetype": "text/x-python",
   "name": "python",
   "nbconvert_exporter": "python",
   "pygments_lexer": "ipython3",
   "version": "3.10.12"
  }
 },
 "nbformat": 4,
 "nbformat_minor": 5
}
