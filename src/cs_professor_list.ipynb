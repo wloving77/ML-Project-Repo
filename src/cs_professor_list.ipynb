{
 "cells": [
  {
   "cell_type": "code",
   "execution_count": 17,
   "id": "5cd9f272-f256-4e3e-b9cf-130158a59a76",
   "metadata": {},
   "outputs": [
    {
     "data": {
      "text/plain": [
       "<module 'helpers.professor_helpers' from '/home/wloving77/Githubs/school/ML-Project-Repo/notebooks/helpers/professor_helpers.py'>"
      ]
     },
     "execution_count": 17,
     "metadata": {},
     "output_type": "execute_result"
    }
   ],
   "source": [
    "import importlib\n",
    "from helpers import professor_helpers\n",
    "importlib.reload(professor_helpers)"
   ]
  },
  {
   "cell_type": "code",
   "execution_count": 13,
   "id": "8595793b-292f-4a9f-aa30-c585ea35ba86",
   "metadata": {},
   "outputs": [],
   "source": [
    "professors = scrape_professors.scrape_professors(\"computer-science\", 10)"
   ]
  },
  {
   "cell_type": "code",
   "execution_count": 18,
   "id": "60843046-4493-4d85-9a9e-70ce168160a6",
   "metadata": {},
   "outputs": [
    {
     "data": {
      "text/plain": [
       "[{'name': 'C. Barrett',\n",
       "  'authorId': '153685574',\n",
       "  'paperCount': 9,\n",
       "  'affiliations': None,\n",
       "  'citationCount': 414},\n",
       " {'name': 'Christopher L. Barrett',\n",
       "  'authorId': '2261445390',\n",
       "  'paperCount': 4,\n",
       "  'affiliations': None,\n",
       "  'citationCount': 3},\n",
       " {'name': 'C. Barrett',\n",
       "  'authorId': '144988756',\n",
       "  'paperCount': 126,\n",
       "  'affiliations': None,\n",
       "  'citationCount': 3196},\n",
       " {'name': 'C. Barrett',\n",
       "  'authorId': '1380798225',\n",
       "  'paperCount': 27,\n",
       "  'affiliations': None,\n",
       "  'citationCount': 2608},\n",
       " {'name': 'C. L. Barrett',\n",
       "  'authorId': '2285769954',\n",
       "  'paperCount': 2,\n",
       "  'affiliations': None,\n",
       "  'citationCount': 398},\n",
       " {'name': 'C. L. Barrett',\n",
       "  'authorId': '2286924938',\n",
       "  'paperCount': 2,\n",
       "  'affiliations': None,\n",
       "  'citationCount': 0},\n",
       " {'name': 'Christopher Barrett',\n",
       "  'authorId': '2052981534',\n",
       "  'paperCount': 6,\n",
       "  'affiliations': None,\n",
       "  'citationCount': 5},\n",
       " {'name': 'Christopher L. Barrett',\n",
       "  'authorId': '2286375559',\n",
       "  'paperCount': 1,\n",
       "  'affiliations': None,\n",
       "  'citationCount': 0},\n",
       " {'name': 'Christopher L. Barrett',\n",
       "  'authorId': '2284565858',\n",
       "  'paperCount': 2,\n",
       "  'affiliations': None,\n",
       "  'citationCount': 25},\n",
       " {'name': 'Christopher L. Barrett',\n",
       "  'authorId': '2277031280',\n",
       "  'paperCount': 1,\n",
       "  'affiliations': None,\n",
       "  'citationCount': 8},\n",
       " {'name': 'Christopher L. Barrett',\n",
       "  'authorId': '2052981571',\n",
       "  'paperCount': 2,\n",
       "  'affiliations': None,\n",
       "  'citationCount': 0}]"
      ]
     },
     "execution_count": 18,
     "metadata": {},
     "output_type": "execute_result"
    }
   ],
   "source": [
    "professor_helpers.get_author_id(professors[2])"
   ]
  },
  {
   "cell_type": "code",
   "execution_count": null,
   "id": "2a1b9af1-10f5-4d4e-aecc-800118f358ef",
   "metadata": {},
   "outputs": [],
   "source": []
  }
 ],
 "metadata": {
  "kernelspec": {
   "display_name": "Python 3 (ipykernel)",
   "language": "python",
   "name": "python3"
  },
  "language_info": {
   "codemirror_mode": {
    "name": "ipython",
    "version": 3
   },
   "file_extension": ".py",
   "mimetype": "text/x-python",
   "name": "python",
   "nbconvert_exporter": "python",
   "pygments_lexer": "ipython3",
   "version": "3.10.12"
  }
 },
 "nbformat": 4,
 "nbformat_minor": 5
}
