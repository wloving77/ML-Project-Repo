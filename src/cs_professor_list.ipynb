{
 "cells": [
  {
   "cell_type": "code",
   "execution_count": 11,
   "id": "5cd9f272-f256-4e3e-b9cf-130158a59a76",
   "metadata": {},
   "outputs": [
    {
     "data": {
      "text/plain": [
       "<module 'helpers.professor_helpers' from '/home/wloving77/Githubs/school/ML-Project-Repo/src/helpers/professor_helpers.py'>"
      ]
     },
     "execution_count": 11,
     "metadata": {},
     "output_type": "execute_result"
    }
   ],
   "source": [
    "import importlib\n",
    "from helpers import professor_helpers\n",
    "importlib.reload(professor_helpers)"
   ]
  },
  {
   "cell_type": "code",
   "execution_count": 12,
   "id": "4756a483",
   "metadata": {},
   "outputs": [],
   "source": [
    "urls = [\n",
    "    \"https://engineering.virginia.edu/department/computer-science/research/artificial-intelligence-research\",\n",
    "    \"https://engineering.virginia.edu/department/computer-science/research/computer-systems-research\",\n",
    "    \"https://engineering.virginia.edu/department/computer-science/research/cyber-physical-systems-research\",\n",
    "    \"https://engineering.virginia.edu/department/computer-science/research/robotics\",\n",
    "    \"https://engineering.virginia.edu/department/computer-science/research/security-research\",\n",
    "    \"https://engineering.virginia.edu/department/computer-science/research/software-engineering\",\n",
    "    \"https://engineering.virginia.edu/department/computer-science/research/theory\"\n",
    "]"
   ]
  },
  {
   "cell_type": "code",
   "execution_count": 14,
   "id": "8595793b-292f-4a9f-aa30-c585ea35ba86",
   "metadata": {},
   "outputs": [],
   "source": [
    "professors = professor_helpers.scrape_professor_names(urls[0], 10)"
   ]
  },
  {
   "cell_type": "code",
   "execution_count": 15,
   "id": "60843046-4493-4d85-9a9e-70ce168160a6",
   "metadata": {},
   "outputs": [
    {
     "data": {
      "text/plain": [
       "['Madhur Behl',\n",
       " 'Rohan Chandra',\n",
       " 'Zezhou Cheng',\n",
       " 'David Evans',\n",
       " 'Farzad Farnoud',\n",
       " 'Lu Feng',\n",
       " 'Matheus Venturyne Xavier Ferreira',\n",
       " 'Ferdinando Fioretto',\n",
       " 'Tom Fletcher',\n",
       " 'Yangfeng Ji',\n",
       " 'Yen-Ling Kuo',\n",
       " 'Jundong Li',\n",
       " 'Yu Meng',\n",
       " 'Yanjun Qi',\n",
       " 'Hongning Wang',\n",
       " 'Tianhao Wang',\n",
       " 'Chen-Yu Wei',\n",
       " 'Aidong Zhang',\n",
       " 'Miaomiao Zhang',\n",
       " 'Shangtong Zhang']"
      ]
     },
     "execution_count": 15,
     "metadata": {},
     "output_type": "execute_result"
    }
   ],
   "source": [
    "professors"
   ]
  },
  {
   "cell_type": "code",
   "execution_count": null,
   "id": "2a1b9af1-10f5-4d4e-aecc-800118f358ef",
   "metadata": {},
   "outputs": [],
   "source": []
  }
 ],
 "metadata": {
  "kernelspec": {
   "display_name": "Python 3 (ipykernel)",
   "language": "python",
   "name": "python3"
  },
  "language_info": {
   "codemirror_mode": {
    "name": "ipython",
    "version": 3
   },
   "file_extension": ".py",
   "mimetype": "text/x-python",
   "name": "python",
   "nbconvert_exporter": "python",
   "pygments_lexer": "ipython3",
   "version": "3.10.12"
  }
 },
 "nbformat": 4,
 "nbformat_minor": 5
}
