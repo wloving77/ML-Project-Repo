{
 "cells": [
  {
   "cell_type": "code",
   "execution_count": 26,
   "id": "5cd9f272-f256-4e3e-b9cf-130158a59a76",
   "metadata": {},
   "outputs": [],
   "source": [
    "import importlib\n",
    "import requests\n",
    "from helpers import professor_helpers, LLM_helpers\n",
    "importlib.reload(professor_helpers)\n",
    "importlib.reload(LLM_helpers)\n",
    "import json"
   ]
  },
  {
   "cell_type": "code",
   "execution_count": 27,
   "id": "7dbc11d6",
   "metadata": {},
   "outputs": [],
   "source": [
    "prof_helper = professor_helpers.ProfessorHelpers()\n",
    "llm_helper = LLM_helpers.GeminiLLMHelper()"
   ]
  },
  {
   "cell_type": "code",
   "execution_count": 28,
   "id": "4207c1b5",
   "metadata": {},
   "outputs": [],
   "source": [
    "llm_reply = llm_helper.send_request(\"Explain quantum mechanics\").text"
   ]
  },
  {
   "cell_type": "code",
   "execution_count": 29,
   "id": "a4afe1d7",
   "metadata": {},
   "outputs": [
    {
     "name": "stdout",
     "output_type": "stream",
     "text": [
      "Quantum mechanics is a fundamental theory in physics that provides a description of the physical properties of nature at the scale of atoms and subatomic particles.  It's a radical departure from classical mechanics, which governs the macroscopic world we experience daily.  Here's a breakdown of its key concepts, simplified for understanding:\n",
      "\n",
      "**1. Quantization:**  This is the cornerstone of quantum mechanics.  Unlike classical mechanics where energy, momentum, and other properties can take on any value, in the quantum world, these properties are *quantized*, meaning they can only exist in discrete amounts, like steps on a staircase.  Think of it like a light switch: it's either on or off, not halfway.  Similarly, an electron can only exist in specific energy levels within an atom.\n",
      "\n",
      "**2. Wave-Particle Duality:**  This is perhaps the most bizarre aspect. Quantum objects, like electrons and photons (light particles), exhibit properties of both waves and particles.  Sometimes they behave like waves, exhibiting interference and diffraction (like ripples in water), and other times they behave like particles, with localized position and momentum.  This isn't a matter of them *being* one or the other; they are fundamentally both.\n",
      "\n",
      "**3. Probability and Uncertainty:**  In classical mechanics, if you know the initial conditions of a system, you can precisely predict its future behavior.  In quantum mechanics, this is not the case.  We can only talk about the *probability* of a quantum system being in a particular state.  This is encapsulated in the Heisenberg Uncertainty Principle, which states that there's a fundamental limit to how precisely we can know certain pairs of properties, like position and momentum, simultaneously.  The more accurately we know one, the less accurately we know the other.\n",
      "\n",
      "**4. Superposition:**  A quantum system can exist in multiple states simultaneously until it's measured.  Imagine a coin spinning in the air – it's neither heads nor tails until it lands.  Similarly, an electron can be in a superposition of multiple energy levels until we measure its energy.  The act of measurement \"collapses\" the superposition into a single definite state.\n",
      "\n",
      "**5. Entanglement:**  Two or more quantum particles can become linked, regardless of the distance separating them.  This means that if you measure the property of one entangled particle, you instantly know the corresponding property of the other, even if they're light-years apart.  This seems to violate the speed of light, but it doesn't because no information is actually transmitted faster than light.\n",
      "\n",
      "**6. Quantum Field Theory:**  This extends quantum mechanics to include the creation and annihilation of particles.  Instead of thinking of particles as fundamental objects, quantum field theory describes them as excitations of underlying quantum fields that permeate all of spacetime.  This is the framework used to describe the Standard Model of particle physics.\n",
      "\n",
      "**In simple terms:**  Imagine the quantum world as a blurry, probabilistic place where things aren't fixed until observed, where particles behave like waves and waves like particles, and where spooky action at a distance is possible.  It's counterintuitive to our everyday experience, but it's the most accurate description we have of the universe at its smallest scales.  Understanding it fully requires advanced mathematics, but these core concepts provide a basic grasp of this fascinating and important field.\n",
      "\n"
     ]
    }
   ],
   "source": [
    "print(llm_reply)"
   ]
  },
  {
   "cell_type": "code",
   "execution_count": null,
   "id": "9b90b319",
   "metadata": {},
   "outputs": [],
   "source": [
    "prof_helper."
   ]
  }
 ],
 "metadata": {
  "kernelspec": {
   "display_name": "env",
   "language": "python",
   "name": "python3"
  },
  "language_info": {
   "codemirror_mode": {
    "name": "ipython",
    "version": 3
   },
   "file_extension": ".py",
   "mimetype": "text/x-python",
   "name": "python",
   "nbconvert_exporter": "python",
   "pygments_lexer": "ipython3",
   "version": "3.10.12"
  }
 },
 "nbformat": 4,
 "nbformat_minor": 5
}
