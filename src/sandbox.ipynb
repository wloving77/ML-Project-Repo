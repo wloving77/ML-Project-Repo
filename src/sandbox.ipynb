{
 "cells": [
  {
   "cell_type": "markdown",
   "metadata": {},
   "source": [
    "# Run This Entire Notebook to Get Your Environment Setup, the Last Function is Just for Testing"
   ]
  },
  {
   "cell_type": "code",
   "execution_count": 4,
   "metadata": {},
   "outputs": [],
   "source": [
    "from dotenv import load_dotenv\n",
    "load_dotenv(\"dev.env\")\n",
    "\n",
    "import helpers.postgres_helper\n",
    "import helpers.embedding_helper\n",
    "import helpers.scraping_helpers\n",
    "import helpers.LLM_helpers\n",
    "import os\n",
    "import importlib"
   ]
  },
  {
   "cell_type": "code",
   "execution_count": 2,
   "metadata": {},
   "outputs": [
    {
     "data": {
      "text/plain": [
       "<module 'helpers.LLM_helpers' from '/Users/williamloving/Documents/Githubs/ML-Project-Repo/app_src/helpers/LLM_helpers.py'>"
      ]
     },
     "execution_count": 2,
     "metadata": {},
     "output_type": "execute_result"
    }
   ],
   "source": [
    "importlib.reload(helpers.postgres_helper)\n",
    "importlib.reload(helpers.embedding_helper)\n",
    "importlib.reload(helpers.scraping_helpers)\n",
    "importlib.reload(helpers.LLM_helpers)"
   ]
  },
  {
   "cell_type": "code",
   "execution_count": 5,
   "metadata": {},
   "outputs": [],
   "source": [
    "pg_helper = helpers.postgres_helper.PostgresConnector()\n",
    "scrape_helper = helpers.scraping_helpers.ScrapeHelpers()\n",
    "embed_helper = helpers.embedding_helper.EmbeddingHelper()\n",
    "LLM_helper = helpers.LLM_helpers.GeminiLLMHelper()"
   ]
  },
  {
   "cell_type": "code",
   "execution_count": 9,
   "metadata": {},
   "outputs": [],
   "source": [
    "def get_similar_papers(query, n=5):\n",
    "    query_embedding = embed_helper.create_embedding(query)\n",
    "\n",
    "\n",
    "    pg_helper.create_connection()\n",
    "    similar_papers = pg_helper.find_similar_papers(query_embedding, 10)\n",
    "    similar_papers.reverse()\n",
    "    pg_helper.close_connection()\n",
    "\n",
    "    return similar_papers"
   ]
  },
  {
   "cell_type": "code",
   "execution_count": 15,
   "metadata": {},
   "outputs": [
    {
     "name": "stdout",
     "output_type": "stream",
     "text": [
      "Connection to PostgreSQL DB successful\n",
      "The connection to the PostgreSQL DB is closed\n"
     ]
    }
   ],
   "source": [
    "query = \"I really want to study Machine Learning\"\n",
    "\n",
    "\n",
    "papers = get_similar_papers(query, 10)"
   ]
  },
  {
   "cell_type": "code",
   "execution_count": 16,
   "metadata": {},
   "outputs": [],
   "source": [
    "response = LLM_helper.send_request(\"What is the meaning of life?\", papers)"
   ]
  },
  {
   "cell_type": "code",
   "execution_count": 17,
   "metadata": {},
   "outputs": [
    {
     "data": {
      "text/plain": [
       "'Based on the provided papers, Professor Homa Alemzadeh is the only professor whose research is represented in the data.  Several of their papers relate to the safety and security of cyber-physical systems, particularly in the medical field.\\n\\nProfessor Alemzadeh\\'s Research Summary:\\n\\nProfessor Alemzadeh\\'s research focuses on the safety and security of cyber-physical systems, with a particular emphasis on medical applications. Their work encompasses several key areas:\\n\\n1. **Medical Cyber-Physical System (MCPS) Security:** This includes threat modeling and mitigation strategies for MCPS, addressing security concerns and protecting patients from potential harm. (Papers: \"On threat modeling and mitigation of medical cyber-physical systems\", \"A review of cognitive assistants for healthcare: Trends, prospects, and future directions\")\\n\\n2. **Autonomous Vehicle (AV) Safety and Resilience:**  This involves assessing the resilience of autonomous driving systems using fault injection techniques to identify and mitigate potential hazards. (\"Experimental Resilience Assessment of An Open-Source Driving Agent\")\\n\\n3. **Medical Device Safety:** This focuses on analyzing the causes of failures in computer-based medical devices and their impact on patient safety.  Their research utilizes data from the FDA to characterize failures and identify safety issues. (\"Analysis of safety-critical computer failures in medical devices\", \"Adverse events in robotic surgery: a retrospective study of 14 years of FDA data\")\\n\\n4. **Robotic Surgery Safety:** This includes studying adverse events in robotic surgery using FDA data to identify common malfunctions and their impact on patients. They also explore targeted cyber-physical attacks on teleoperated surgical robots and methods for detection and mitigation. (\"Adverse events in robotic surgery: a retrospective study of 14 years of FDA data\", \"Targeted Attacks on Teleoperated Surgical Robots: Dynamic Model-based Detection and Mitigation\")\\n\\n5. **Machine Learning Safety:** This explores the safety implications of machine learning in cyber-physical systems, decision sciences, and data products, defining safety in this context and suggesting strategies for achieving it. (\"On the safety of machine learning: Cyber-physical systems, decision sciences, and data products\")\\n\\n\\nGiven the user prompt about the \"meaning of life,\" there is no direct connection to Professor Alemzadeh\\'s research within the provided data.  Their work focuses on technical aspects of safety and security in various systems.\\n'"
      ]
     },
     "execution_count": 17,
     "metadata": {},
     "output_type": "execute_result"
    }
   ],
   "source": [
    "response"
   ]
  },
  {
   "cell_type": "code",
   "execution_count": null,
   "metadata": {},
   "outputs": [],
   "source": []
  }
 ],
 "metadata": {
  "kernelspec": {
   "display_name": ".venv",
   "language": "python",
   "name": "python3"
  },
  "language_info": {
   "codemirror_mode": {
    "name": "ipython",
    "version": 3
   },
   "file_extension": ".py",
   "mimetype": "text/x-python",
   "name": "python",
   "nbconvert_exporter": "python",
   "pygments_lexer": "ipython3",
   "version": "3.9.6"
  }
 },
 "nbformat": 4,
 "nbformat_minor": 2
}
