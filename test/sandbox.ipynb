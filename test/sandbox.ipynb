{
 "cells": [
  {
   "cell_type": "markdown",
   "metadata": {},
   "source": [
    "# Run This Entire Notebook to Get Your Environment Setup, the Last Function is Just for Testing"
   ]
  },
  {
   "cell_type": "code",
   "execution_count": 70,
   "metadata": {},
   "outputs": [],
   "source": [
    "from dotenv import load_dotenv\n",
    "load_dotenv(\".env\")\n",
    "\n",
    "import helpers.postgres_helper\n",
    "import helpers.embedding_helper\n",
    "import helpers.scraping_helpers\n",
    "import helpers.LLM_helpers\n",
    "import os\n",
    "import importlib"
   ]
  },
  {
   "cell_type": "code",
   "execution_count": 71,
   "metadata": {},
   "outputs": [
    {
     "data": {
      "text/plain": [
       "<module 'helpers.LLM_helpers' from '/Users/williamloving/Documents/Githubs/ML-Project-Repo/test/helpers/LLM_helpers.py'>"
      ]
     },
     "execution_count": 71,
     "metadata": {},
     "output_type": "execute_result"
    }
   ],
   "source": [
    "importlib.reload(helpers.postgres_helper)\n",
    "importlib.reload(helpers.embedding_helper)\n",
    "importlib.reload(helpers.scraping_helpers)\n",
    "importlib.reload(helpers.LLM_helpers)"
   ]
  },
  {
   "cell_type": "code",
   "execution_count": 72,
   "metadata": {},
   "outputs": [],
   "source": [
    "pg_helper = helpers.postgres_helper.PostgresConnector()\n",
    "scrape_helper = helpers.scraping_helpers.ScrapeHelpers()\n",
    "embed_helper = helpers.embedding_helper.EmbeddingHelper()\n",
    "LLM_helper = helpers.LLM_helpers.GeminiLLMHelper()"
   ]
  },
  {
   "cell_type": "code",
   "execution_count": 73,
   "metadata": {},
   "outputs": [],
   "source": [
    "professors_and_abstracts = scrape_helper.read_json_to_dict(\"data/professors_papers_and_abstracts.json\")"
   ]
  },
  {
   "cell_type": "code",
   "execution_count": 74,
   "metadata": {},
   "outputs": [],
   "source": [
    "def populate_db(pg_helper, professors_and_abstracts):\n",
    "    pg_helper.create_connection()\n",
    "    for professor in professors_and_abstracts:\n",
    "        professor_name = professor[\"Professor\"]\n",
    "        for paper in professor[\"Papers\"]:\n",
    "            paper_title = paper[\"title\"]\n",
    "            paper_abstract = paper[\"abstract\"]\n",
    "            paper_link = paper[\"paper_link\"]\n",
    "            if not paper_abstract or not paper_link or not paper_title:\n",
    "                continue\n",
    "            paper_embedding = embed_helper.create_embedding(paper_abstract)\n",
    "            pg_helper.insert_professor_and_paper(professor_name, paper_title, paper_abstract, paper_embedding, paper_link)\n",
    "            print(f\"Inserted {paper_title} for {professor_name}\")\n",
    "    pg_helper.close_connection()"
   ]
  },
  {
   "cell_type": "code",
   "execution_count": null,
   "metadata": {},
   "outputs": [],
   "source": [
    "populate_db(pg_helper, professors_and_abstracts)"
   ]
  },
  {
   "cell_type": "code",
   "execution_count": 76,
   "metadata": {},
   "outputs": [],
   "source": [
    "def get_similar_papers(query, n=5):\n",
    "    query_embedding = embed_helper.create_embedding(query)\n",
    "\n",
    "\n",
    "    pg_helper.create_connection()\n",
    "    similar_papers = pg_helper.find_similar_papers(query_embedding, 10)\n",
    "    similar_papers.reverse()\n",
    "    pg_helper.close_connection()\n",
    "\n",
    "    return similar_papers"
   ]
  },
  {
   "cell_type": "code",
   "execution_count": null,
   "metadata": {},
   "outputs": [
    {
     "name": "stdout",
     "output_type": "stream",
     "text": [
      "Connection to PostgreSQL DB successful\n",
      "The connection to the PostgreSQL DB is closed\n"
     ]
    },
    {
     "data": {
      "text/plain": [
       "[{'id': 716,\n",
       "  'title': 'Using LEGO MINDSTORMS NXT and LEJOS in an advanced software engineering course',\n",
       "  'abstract': 'This paper describes the benefits of using LeJOS and the Lego Mindstorms NXT set for teaching advanced software development. While Lego Mindstorms has been used in introduction to computer science courses, it is not reported to be widely used in a simulated production environment requiring such things as threading, network communications, and the implementation of command protocols. Additionally, because the Mindstorms NXT system supports Bluetooth communications with multiple devices, it is possible to use this system as the basis for a complex, communicating system requiring multiple software artifacts on different machines.',\n",
       "  'paper_link': 'https://www.semanticscholar.org/paper/b269756012f09938573caf76e8cfcf9f804afb16',\n",
       "  'similarity': 0.7161985124290422,\n",
       "  'author': 'Mark Sherriff'},\n",
       " {'id': 343,\n",
       "  'title': 'Using LEGO MINDSTORMS NXT and LEJOS in an advanced software engineering course',\n",
       "  'abstract': 'This paper describes the benefits of using LeJOS and the Lego Mindstorms NXT set for teaching advanced software development. While Lego Mindstorms has been used in introduction to computer science courses, it is not reported to be widely used in a simulated production environment requiring such things as threading, network communications, and the implementation of command protocols. Additionally, because the Mindstorms NXT system supports Bluetooth communications with multiple devices, it is possible to use this system as the basis for a complex, communicating system requiring multiple software artifacts on different machines.',\n",
       "  'paper_link': 'https://www.semanticscholar.org/paper/b269756012f09938573caf76e8cfcf9f804afb16',\n",
       "  'similarity': 0.7161985124290422,\n",
       "  'author': 'Thomas B. Horton'},\n",
       " {'id': 615,\n",
       "  'title': 'Growing computer science education into a STEM education discipline',\n",
       "  'abstract': 'Seeking to make computing education as available as mathematics or science education.',\n",
       "  'paper_link': 'https://www.semanticscholar.org/paper/6b6fbc3a07557a0e94e94db7e40c0aaf360aa3ad',\n",
       "  'similarity': 0.699483653887619,\n",
       "  'author': 'Briana Morrison'},\n",
       " {'id': 734,\n",
       "  'title': 'Rodinia: A benchmark suite for heterogeneous computing',\n",
       "  'abstract': \"This paper presents and characterizes Rodinia, a benchmark suite for heterogeneous computing. To help architects study emerging platforms such as GPUs (Graphics Processing Units), Rodinia includes applications and kernels which target multi-core CPU and GPU platforms. The choice of applications is inspired by Berkeley's dwarf taxonomy. Our characterization shows that the Rodinia benchmarks cover a wide range of parallel communication patterns, synchronization techniques and power consumption, and has led to some important architectural insight, such as the growing importance of memory-bandwidth limitations and the consequent importance of data layout.\",\n",
       "  'paper_link': 'https://www.semanticscholar.org/paper/419f49c47f6fddae7235fb7c72335bccc1a3b743',\n",
       "  'similarity': 0.6852282694118184,\n",
       "  'author': 'Kevin Skadron'},\n",
       " {'id': 80,\n",
       "  'title': 'Ownership is theft: Experiences building an embedded OS in Rust',\n",
       "  'abstract': \"Rust, a new systems programming language, provides compile-time memory safety checks to help eliminate runtime bugs that manifest from improper memory management. This feature is advantageous for operating system development, and especially for embedded OS development, where recovery and debugging are particularly challenging. However, embedded platforms are highly event-based, and Rust's memory safety mechanisms largely presume threads. In our experience developing an operating system for embedded systems in Rust, we have found that Rust's ownership model prevents otherwise safe resource sharing common in the embedded domain, conflicts with the reality of hardware resources, and hinders using closures for programming asynchronously. We describe these experiences and how they relate to memory safety as well as illustrate our workarounds that preserve the safety guarantees to the largest extent possible. In addition, we draw from our experience to propose a new language extension to Rust that would enable it to provide better memory safety tools for event-driven platforms.\",\n",
       "  'paper_link': 'https://www.semanticscholar.org/paper/73aec339f9bfdfae50b84d9117d64ab903a7d7ed',\n",
       "  'similarity': 0.6706334850380862,\n",
       "  'author': 'Brad Campbell'},\n",
       " {'id': 349,\n",
       "  'title': 'Teaching second-level Java and software engineering with Android',\n",
       "  'abstract': 'Over the past two years, second-year Java and software engineering courses have been taught at the University of Virginia and North Carolina State University utilizing the Android OS platform. Instructors taught a variety of traditional second-year topics, including abstraction, design, requirements, and testing, utilizing a variety of Android-based mobile devices. Anecdotal responses from student surveys and evaluations from five course sessions indicate that teaching lower-level courses with more advanced and current technology, even with a steeper learning curve, is beneficial. In this tutorial proposal, we outline our plan for presenting a session that would help educators incorporate the Android OS into their curriculum and how to use the system even if mobile devices are not available.',\n",
       "  'paper_link': 'https://www.semanticscholar.org/paper/277bfa561e609df00d2a298aa1b6dafab92728ae',\n",
       "  'similarity': 0.6245749369010292,\n",
       "  'author': 'Thomas B. Horton'},\n",
       " {'id': 728,\n",
       "  'title': 'Teaching second-level Java and software engineering with Android',\n",
       "  'abstract': 'Over the past two years, second-year Java and software engineering courses have been taught at the University of Virginia and North Carolina State University utilizing the Android OS platform. Instructors taught a variety of traditional second-year topics, including abstraction, design, requirements, and testing, utilizing a variety of Android-based mobile devices. Anecdotal responses from student surveys and evaluations from five course sessions indicate that teaching lower-level courses with more advanced and current technology, even with a steeper learning curve, is beneficial. In this tutorial proposal, we outline our plan for presenting a session that would help educators incorporate the Android OS into their curriculum and how to use the system even if mobile devices are not available.',\n",
       "  'paper_link': 'https://www.semanticscholar.org/paper/277bfa561e609df00d2a298aa1b6dafab92728ae',\n",
       "  'similarity': 0.6245749369010292,\n",
       "  'author': 'Mark Sherriff'},\n",
       " {'id': 81,\n",
       "  'title': 'The case for writing a kernel in rust',\n",
       "  'abstract': 'An operating system kernel written in the Rust language would have extremely fine-grained isolation boundaries, have no memory leaks, and be safe from a wide range of security threats and memory bugs. Previous efforts towards this end concluded that writing a kernel requires changing Rust. This paper reaches a different conclusion, that no changes to Rust are needed and a kernel can be implemented with a very small amount of unsafe code. It describes how three sample kernel mechanisms---DMA, USB, and buffer caches---can be built using these abstractions.',\n",
       "  'paper_link': 'https://www.semanticscholar.org/paper/5f9f54b21febff13e9109a4026451b0d6fe92d61',\n",
       "  'similarity': 0.6243761069886715,\n",
       "  'author': 'Brad Campbell'},\n",
       " {'id': 74,\n",
       "  'title': 'Multiprogramming a 64kb computer safely and efficiently',\n",
       "  'abstract': 'Low-power microcontrollers lack some of the hardware features and memory resources that enable multiprogrammable systems. Accordingly, microcontroller-based operating systems have not provided important features like fault isolation, dynamic memory allocation, and flexible concurrency. However, an emerging class of embedded applications are software platforms, rather than single purpose devices, and need these multiprogramming features. Tock, a new operating system for low-power platforms, takes advantage of limited hardware-protection mechanisms as well as the type-safety features of the Rust programming language to provide a multiprogramming environment for microcontrollers. Tock isolates software faults, provides memory protection, and efficiently manages memory for dynamic application workloads written in any language. It achieves this while retaining the dependability requirements of long-running applications.',\n",
       "  'paper_link': 'https://www.semanticscholar.org/paper/2988e8fff63ee9f953df00cf53e92a4df8ed69aa',\n",
       "  'similarity': 0.6223869211193,\n",
       "  'author': 'Brad Campbell'},\n",
       " {'id': 88,\n",
       "  'title': 'The tock embedded operating system',\n",
       "  'abstract': 'Low-power microcontrollers lack some of the hardware features and most of the memory resources that usually enable multiprogrammable systems. Accordingly, operating system software for these platforms has not provided important features like memory isolation, dynamic memory allocation, and flexible concurrency. However, an emerging class of embedded applications are software platforms, rather than single purpose devices. Tock, a new operating system for low-power platforms, takes advantage of the limited hardware-protection mechanisms available on recent microcontrollers and the type-safety features of the Rust programming language to provide a multiprogramming environment that offers isolation of software faults, memory protection, and efficient memory management for dynamic application workloads written in any language while retaining the dependability requirements of long-running devices.',\n",
       "  'paper_link': 'https://www.semanticscholar.org/paper/f1783c2cfd1432987556c9da7de11decf2d253fc',\n",
       "  'similarity': 0.5938638923723664,\n",
       "  'author': 'Brad Campbell'}]"
      ]
     },
     "execution_count": 69,
     "metadata": {},
     "output_type": "execute_result"
    }
   ],
   "source": [
    "query = \"I like operating systems\"\n",
    "\n",
    "\n",
    "get_similar_papers(query, 10)"
   ]
  },
  {
   "cell_type": "code",
   "execution_count": null,
   "metadata": {},
   "outputs": [],
   "source": []
  }
 ],
 "metadata": {
  "kernelspec": {
   "display_name": ".venv",
   "language": "python",
   "name": "python3"
  },
  "language_info": {
   "codemirror_mode": {
    "name": "ipython",
    "version": 3
   },
   "file_extension": ".py",
   "mimetype": "text/x-python",
   "name": "python",
   "nbconvert_exporter": "python",
   "pygments_lexer": "ipython3",
   "version": "3.9.6"
  }
 },
 "nbformat": 4,
 "nbformat_minor": 2
}
